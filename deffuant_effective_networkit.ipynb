{
 "cells": [
  {
   "cell_type": "code",
   "execution_count": 2,
   "id": "1733dcc1",
   "metadata": {},
   "outputs": [
    {
     "data": {
      "text/html": [
       "\n",
       "\t\t\t<script type=\"text/javascript\">\n",
       "\t\t\t<!--\n",
       "\t\t\t\t\n",
       "\t\t\t{\n",
       "\t\t\t\tvar element = document.getElementById('NetworKit_script');\n",
       "\t\t\t\tif (element) {\n",
       "\t\t\t\t\telement.parentNode.removeChild(element);\n",
       "\t\t\t\t}\n",
       "\t\t\t\telement = document.createElement('script');\n",
       "\t\t\t\telement.type = 'text/javascript';\n",
       "\t\t\t\telement.innerHTML = 'function NetworKit_pageEmbed(id) { var i, j; var elements; elements = document.getElementById(id).getElementsByClassName(\"Plot\"); for (i=0; i<elements.length; i++) { elements[i].id = id + \"_Plot_\" + i; var data = elements[i].getAttribute(\"data-image\").split(\"|\"); elements[i].removeAttribute(\"data-image\"); var content = \"<div class=\\\\\"Image\\\\\" id=\\\\\"\" + elements[i].id + \"_Image\\\\\" />\"; elements[i].innerHTML = content; elements[i].setAttribute(\"data-image-index\", 0); elements[i].setAttribute(\"data-image-length\", data.length); for (j=0; j<data.length; j++) { elements[i].setAttribute(\"data-image-\" + j, data[j]); } NetworKit_plotUpdate(elements[i]); elements[i].onclick = function (e) { NetworKit_overlayShow((e.target) ? e.target : e.srcElement); } } elements = document.getElementById(id).getElementsByClassName(\"HeatCell\"); for (i=0; i<elements.length; i++) { var data = parseFloat(elements[i].getAttribute(\"data-heat\")); var color = \"#00FF00\"; if (data <= 1 && data > 0) { color = \"hsla(0, 100%, 75%, \" + (data) + \")\"; } else if (data <= 0 && data >= -1) { color = \"hsla(240, 100%, 75%, \" + (-data) + \")\"; } elements[i].style.backgroundColor = color; } elements = document.getElementById(id).getElementsByClassName(\"Details\"); for (i=0; i<elements.length; i++) { elements[i].setAttribute(\"data-title\", \"-\"); NetworKit_toggleDetails(elements[i]); elements[i].onclick = function (e) { NetworKit_toggleDetails((e.target) ? e.target : e.srcElement); } } elements = document.getElementById(id).getElementsByClassName(\"MathValue\"); for (i=elements.length-1; i>=0; i--) { value = elements[i].innerHTML.trim(); if (value === \"nan\") { elements[i].parentNode.innerHTML = \"\" } } elements = document.getElementById(id).getElementsByClassName(\"SubCategory\"); for (i=elements.length-1; i>=0; i--) { value = elements[i].innerHTML.trim(); if (value === \"\") { elements[i].parentNode.removeChild(elements[i]) } } elements = document.getElementById(id).getElementsByClassName(\"Category\"); for (i=elements.length-1; i>=0; i--) { value = elements[i].innerHTML.trim(); if (value === \"\") { elements[i].parentNode.removeChild(elements[i]) } } var isFirefox = false; try { isFirefox = typeof InstallTrigger !== \"undefined\"; } catch (e) {} if (!isFirefox) { alert(\"Currently the function\\'s output is only fully supported by Firefox.\"); } } function NetworKit_plotUpdate(source) { var index = source.getAttribute(\"data-image-index\"); var data = source.getAttribute(\"data-image-\" + index); var image = document.getElementById(source.id + \"_Image\"); image.style.backgroundImage = \"url(\" + data + \")\"; } function NetworKit_showElement(id, show) { var element = document.getElementById(id); element.style.display = (show) ? \"block\" : \"none\"; } function NetworKit_overlayShow(source) { NetworKit_overlayUpdate(source); NetworKit_showElement(\"NetworKit_Overlay\", true); } function NetworKit_overlayUpdate(source) { document.getElementById(\"NetworKit_Overlay_Title\").innerHTML = source.title; var index = source.getAttribute(\"data-image-index\"); var data = source.getAttribute(\"data-image-\" + index); var image = document.getElementById(\"NetworKit_Overlay_Image\"); image.setAttribute(\"data-id\", source.id); image.style.backgroundImage = \"url(\" + data + \")\"; var link = document.getElementById(\"NetworKit_Overlay_Toolbar_Bottom_Save\"); link.href = data; link.download = source.title + \".svg\"; } function NetworKit_overlayImageShift(delta) { var image = document.getElementById(\"NetworKit_Overlay_Image\"); var source = document.getElementById(image.getAttribute(\"data-id\")); var index = parseInt(source.getAttribute(\"data-image-index\")); var length = parseInt(source.getAttribute(\"data-image-length\")); var index = (index+delta) % length; if (index < 0) { index = length + index; } source.setAttribute(\"data-image-index\", index); NetworKit_overlayUpdate(source); } function NetworKit_toggleDetails(source) { var childs = source.children; var show = false; if (source.getAttribute(\"data-title\") == \"-\") { source.setAttribute(\"data-title\", \"+\"); show = false; } else { source.setAttribute(\"data-title\", \"-\"); show = true; } for (i=0; i<childs.length; i++) { if (show) { childs[i].style.display = \"block\"; } else { childs[i].style.display = \"none\"; } } }';\n",
       "\t\t\t\telement.setAttribute('id', 'NetworKit_script');\n",
       "\t\t\t\tdocument.head.appendChild(element);\n",
       "\t\t\t}\n",
       "\t\t\n",
       "\t\t\t\t\n",
       "\t\t\t{\n",
       "\t\t\t\tvar element = document.getElementById('NetworKit_style');\n",
       "\t\t\t\tif (element) {\n",
       "\t\t\t\t\telement.parentNode.removeChild(element);\n",
       "\t\t\t\t}\n",
       "\t\t\t\telement = document.createElement('style');\n",
       "\t\t\t\telement.type = 'text/css';\n",
       "\t\t\t\telement.innerHTML = '.NetworKit_Page { font-family: Arial, Helvetica, sans-serif; font-size: 14px; } .NetworKit_Page .Value:before { font-family: Arial, Helvetica, sans-serif; font-size: 1.05em; content: attr(data-title) \":\"; margin-left: -2.5em; padding-right: 0.5em; } .NetworKit_Page .Details .Value:before { display: block; } .NetworKit_Page .Value { font-family: monospace; white-space: pre; padding-left: 2.5em; white-space: -moz-pre-wrap !important; white-space: -pre-wrap; white-space: -o-pre-wrap; white-space: pre-wrap; word-wrap: break-word; tab-size: 4; -moz-tab-size: 4; } .NetworKit_Page .Category { clear: both; padding-left: 1em; margin-bottom: 1.5em; } .NetworKit_Page .Category:before { content: attr(data-title); font-size: 1.75em; display: block; margin-left: -0.8em; margin-bottom: 0.5em; } .NetworKit_Page .SubCategory { margin-bottom: 1.5em; padding-left: 1em; } .NetworKit_Page .SubCategory:before { font-size: 1.6em; display: block; margin-left: -0.8em; margin-bottom: 0.5em; } .NetworKit_Page .SubCategory[data-title]:before { content: attr(data-title); } .NetworKit_Page .Block { display: block; } .NetworKit_Page .Block:after { content: \".\"; visibility: hidden; display: block; height: 0; clear: both; } .NetworKit_Page .Block .Thumbnail_Overview, .NetworKit_Page .Block .Thumbnail_ScatterPlot { width: 260px; float: left; } .NetworKit_Page .Block .Thumbnail_Overview img, .NetworKit_Page .Block .Thumbnail_ScatterPlot img { width: 260px; } .NetworKit_Page .Block .Thumbnail_Overview:before, .NetworKit_Page .Block .Thumbnail_ScatterPlot:before { display: block; text-align: center; font-weight: bold; } .NetworKit_Page .Block .Thumbnail_Overview:before { content: attr(data-title); } .NetworKit_Page .HeatCell { font-family: \"Courier New\", Courier, monospace; cursor: pointer; } .NetworKit_Page .HeatCell, .NetworKit_Page .HeatCellName { display: inline; padding: 0.1em; margin-right: 2px; background-color: #FFFFFF } .NetworKit_Page .HeatCellName { margin-left: 0.25em; } .NetworKit_Page .HeatCell:before { content: attr(data-heat); display: inline-block; color: #000000; width: 4em; text-align: center; } .NetworKit_Page .Measure { clear: both; } .NetworKit_Page .Measure .Details { cursor: pointer; } .NetworKit_Page .Measure .Details:before { content: \"[\" attr(data-title) \"]\"; display: block; } .NetworKit_Page .Measure .Details .Value { border-left: 1px dotted black; margin-left: 0.4em; padding-left: 3.5em; pointer-events: none; } .NetworKit_Page .Measure .Details .Spacer:before { content: \".\"; opacity: 0.0; pointer-events: none; } .NetworKit_Page .Measure .Plot { width: 440px; height: 440px; cursor: pointer; float: left; margin-left: -0.9em; margin-right: 20px; } .NetworKit_Page .Measure .Plot .Image { background-repeat: no-repeat; background-position: center center; background-size: contain; height: 100%; pointer-events: none; } .NetworKit_Page .Measure .Stat { width: 500px; float: left; } .NetworKit_Page .Measure .Stat .Group { padding-left: 1.25em; margin-bottom: 0.75em; } .NetworKit_Page .Measure .Stat .Group .Title { font-size: 1.1em; display: block; margin-bottom: 0.3em; margin-left: -0.75em; border-right-style: dotted; border-right-width: 1px; border-bottom-style: dotted; border-bottom-width: 1px; background-color: #D0D0D0; padding-left: 0.2em; } .NetworKit_Page .Measure .Stat .Group .List { -webkit-column-count: 3; -moz-column-count: 3; column-count: 3; } .NetworKit_Page .Measure .Stat .Group .List .Entry { position: relative; line-height: 1.75em; } .NetworKit_Page .Measure .Stat .Group .List .Entry[data-tooltip]:before { position: absolute; left: 0; top: -40px; background-color: #808080; color: #ffffff; height: 30px; line-height: 30px; border-radius: 5px; padding: 0 15px; content: attr(data-tooltip); white-space: nowrap; display: none; } .NetworKit_Page .Measure .Stat .Group .List .Entry[data-tooltip]:after { position: absolute; left: 15px; top: -10px; border-top: 7px solid #808080; border-left: 7px solid transparent; border-right: 7px solid transparent; content: \"\"; display: none; } .NetworKit_Page .Measure .Stat .Group .List .Entry[data-tooltip]:hover:after, .NetworKit_Page .Measure .Stat .Group .List .Entry[data-tooltip]:hover:before { display: block; } .NetworKit_Page .Measure .Stat .Group .List .Entry .MathValue { font-family: \"Courier New\", Courier, monospace; } .NetworKit_Page .Measure:after { content: \".\"; visibility: hidden; display: block; height: 0; clear: both; } .NetworKit_Page .PartitionPie { clear: both; } .NetworKit_Page .PartitionPie img { width: 600px; } #NetworKit_Overlay { left: 0px; top: 0px; display: none; position: absolute; width: 100%; height: 100%; background-color: rgba(0,0,0,0.6); z-index: 1000; } #NetworKit_Overlay_Title { position: absolute; color: white; transform: rotate(-90deg); width: 32em; height: 32em; padding-right: 0.5em; padding-top: 0.5em; text-align: right; font-size: 40px; } #NetworKit_Overlay .button { background: white; cursor: pointer; } #NetworKit_Overlay .button:before { size: 13px; display: inline-block; text-align: center; margin-top: 0.5em; margin-bottom: 0.5em; width: 1.5em; height: 1.5em; } #NetworKit_Overlay .icon-close:before { content: \"X\"; } #NetworKit_Overlay .icon-previous:before { content: \"P\"; } #NetworKit_Overlay .icon-next:before { content: \"N\"; } #NetworKit_Overlay .icon-save:before { content: \"S\"; } #NetworKit_Overlay_Toolbar_Top, #NetworKit_Overlay_Toolbar_Bottom { position: absolute; width: 40px; right: 13px; text-align: right; z-index: 1100; } #NetworKit_Overlay_Toolbar_Top { top: 0.5em; } #NetworKit_Overlay_Toolbar_Bottom { Bottom: 0.5em; } #NetworKit_Overlay_ImageContainer { position: absolute; top: 5%; left: 5%; height: 90%; width: 90%; background-repeat: no-repeat; background-position: center center; background-size: contain; } #NetworKit_Overlay_Image { height: 100%; width: 100%; background-repeat: no-repeat; background-position: center center; background-size: contain; }';\n",
       "\t\t\t\telement.setAttribute('id', 'NetworKit_style');\n",
       "\t\t\t\tdocument.head.appendChild(element);\n",
       "\t\t\t}\n",
       "\t\t\n",
       "\t\t\t\t\n",
       "\t\t\t{\n",
       "\t\t\t\tvar element = document.getElementById('NetworKit_Overlay');\n",
       "\t\t\t\tif (element) {\n",
       "\t\t\t\t\telement.parentNode.removeChild(element);\n",
       "\t\t\t\t}\n",
       "\t\t\t\telement = document.createElement('div');\n",
       "\t\t\t\telement.innerHTML = '<div id=\"NetworKit_Overlay_Toolbar_Top\"><div class=\"button icon-close\" id=\"NetworKit_Overlay_Close\" /></div><div id=\"NetworKit_Overlay_Title\" /> <div id=\"NetworKit_Overlay_ImageContainer\"> <div id=\"NetworKit_Overlay_Image\" /> </div> <div id=\"NetworKit_Overlay_Toolbar_Bottom\"> <div class=\"button icon-previous\" onclick=\"NetworKit_overlayImageShift(-1)\" /> <div class=\"button icon-next\" onclick=\"NetworKit_overlayImageShift(1)\" /> <a id=\"NetworKit_Overlay_Toolbar_Bottom_Save\"><div class=\"button icon-save\" /></a> </div>';\n",
       "\t\t\t\telement.setAttribute('id', 'NetworKit_Overlay');\n",
       "\t\t\t\tdocument.body.appendChild(element);\n",
       "\t\t\t\tdocument.getElementById('NetworKit_Overlay_Close').onclick = function (e) {\n",
       "\t\t\t\t\tdocument.getElementById('NetworKit_Overlay').style.display = 'none';\n",
       "\t\t\t\t}\n",
       "\t\t\t}\n",
       "\t\t\n",
       "\t\t\t-->\n",
       "\t\t\t</script>\n",
       "\t\t"
      ]
     },
     "metadata": {},
     "output_type": "display_data"
    }
   ],
   "source": [
    "from networkit.graph import Graph\n",
    "import networkit as nk\n",
    "import networkx as nx\n",
    "import numpy as np\n",
    "import copy\n",
    "import time\n",
    "import matplotlib.pyplot as plt # https://matplotlib.org/stable/plot_types/basic/plot.html\n",
    "\n",
    "\n",
    "def opinion_diff(u, v, att):\n",
    "    \n",
    "    return att[u] - att[v]\n",
    "\n",
    "\n",
    "def update_opinions(u, v, att, convergence, symmetric_updating=True):\n",
    "    diff = opinion_diff(u, v, att)\n",
    "    att[u] -= convergence * diff\n",
    "    \n",
    "    if symmetric_updating:\n",
    "        att[v] += convergence * diff\n",
    "    return \n",
    "\n",
    "        \n",
    "def update_effective_net(u, v, effective_net, G, att, threshold, symmetric_updating):\n",
    "    # update u's neighbors\n",
    "    for w in G.iterNeighbors(u):\n",
    "        diff = abs(opinion_diff(u, w, att))\n",
    "        \n",
    "        if diff <= threshold and not effective_net.hasEdge(u, w):\n",
    "            effective_net.addEdge(u, w)\n",
    "\n",
    "        elif diff > threshold and effective_net.hasEdge(u, w):\n",
    "            effective_net.removeEdge(u, w)\n",
    "        \n",
    "    if not symmetric_updating:\n",
    "        return effective_net\n",
    "    \n",
    "    # update v's neighbors\n",
    "    for w in G.iterNeighbors(v):\n",
    "        diff = abs(opinion_diff(u, w, att))\n",
    "        \n",
    "        if diff <= threshold and not effective_net.hasEdge(v, w):\n",
    "            effective_net.addEdge(v, w)\n",
    "\n",
    "        elif diff > threshold and effective_net.hasEdge(v, w):\n",
    "            effective_net.removeEdge(v, w)\n",
    "    return effective_net\n",
    "\n",
    "\n",
    "def simulate_deffuant_model(G: nk.graph.Graph, iterations: int, threshold: float,\\\n",
    "                            convergence: float, symmetric_updating=True, fast_mode=False):\n",
    "    \"\"\"\n",
    "    Simulates the Deffuant model on the given graph.\n",
    "\n",
    "    Parameters\n",
    "    ----------\n",
    "    G : networkx.Graph\n",
    "        The graph on which to simulate the model.\n",
    "    iterations : int\n",
    "        The number of iterations to run the simulation for.\n",
    "    threshold : float\n",
    "        Threshold value for node interaction in the model.\n",
    "    convergence : float\n",
    "        The value used for updating opinions in the model.\n",
    "    symmetric_updating: bool\n",
    "        If True, at every timestep both nodes update their opinions.\n",
    "        If False, at every timestep only the first selected node updates its opinion.\n",
    "    fast_mode: bool\n",
    "        If True, only the last effective network is returned and used throughout the simulation.\n",
    "        If False, every effective network is saved and returned.\n",
    "\n",
    "    Returns\n",
    "    -------\n",
    "    list[networkx.Graph]\n",
    "        A list of graphs, where each graph represents the state of the network at a given time step.\n",
    "    \"\"\"\n",
    "    \n",
    "    # initialize node attributes\n",
    "    att = G.attachNodeAttribute(\"opinion\", float)\n",
    "    for node in G.iterNodes():\n",
    "            att[node] = np.random.uniform(0, 1)\n",
    "\n",
    "    # get initial effective network\n",
    "    effective_net = copy.deepcopy(G)\n",
    "    \n",
    "    # remove edges between nodes with opinion difference above threshold\n",
    "    for u, v in effective_net.iterEdges():\n",
    "        if abs(opinion_diff(u, v, att)) > threshold:\n",
    "            effective_net.removeEdge(u, v)\n",
    "\n",
    "    if not fast_mode:\n",
    "        # initialize the list of nets that will be returned\n",
    "        effective_networks = [(effective_net,att)]\n",
    "    # run simulation\n",
    "    for t in range(1, iterations):\n",
    "        \n",
    "        if not fast_mode:\n",
    "            # copy last effective network\n",
    "            effective_net = copy.deepcopy(effective_net)\n",
    "            \n",
    "        \n",
    "        # choose random node to update\n",
    "        u = np.random.choice(G.numberOfNodes())\n",
    "        \n",
    "        # get another node if u is isolated\n",
    "        while not list(effective_net.iterNeighbors(u)):\n",
    "            u = np.random.choice(G.numberOfNodes())\n",
    "        \n",
    "        # get a random neighbor of u\n",
    "        v = np.random.choice(list(effective_net.iterNeighbors(u)))\n",
    "        # update their opinions\n",
    "        update_opinions(u, v, att, convergence, symmetric_updating)\n",
    "        \n",
    "        # we now update the connections of these nodes in the effective network depending on\n",
    "        # the opinions of their neighbors in the underlying network G\n",
    "        effective_net = update_effective_net(u, v, effective_net, G, att, threshold, symmetric_updating)\n",
    "        \n",
    "        if not fast_mode:\n",
    "            # add it to list\n",
    "            effective_networks.append((effective_net, att))\n",
    "    \n",
    "    if not fast_mode:\n",
    "        return effective_networks\n",
    "    else:\n",
    "        return effective_net"
   ]
  },
  {
   "cell_type": "code",
   "execution_count": 3,
   "id": "f7248314",
   "metadata": {},
   "outputs": [],
   "source": [
    "from networkit.components import ConnectedComponents\n",
    "\n",
    "# metrics functions\n",
    "\n",
    "# equation 3 in the paper\n",
    "def dispersion_index(G):\n",
    "    cc = ConnectedComponents(G)\n",
    "    cc.run()\n",
    "    return sum([len(cluster)**2 for cluster in cc.getComponents()])/(G.numberOfNodes()**2)\n",
    "\n",
    "def network_modularity(G):\n",
    "    cc = ConnectedComponents(G)\n",
    "    cc.run()\n",
    "    return sum([len(cluster)**2 for cluster in cc.getComponents()])/(G.numberOfNodes()**2)\n",
    "\n",
    "def avg_dispersion_data(case, order, iterations, sample_size, points, init_d, final_d, convergence):\n",
    "    avg_dispersions = [0 for i in range(points)]\n",
    "    d = [init_d + i*(final_d-init_d)/points for i in range(points)]\n",
    "    \n",
    "    for i in range(points):\n",
    "        print(\".\", end='')\n",
    "        for j in range(sample_size):\n",
    "            \n",
    "            # generate network sample\n",
    "            if case == 'scale_free':\n",
    "                net = nx.barabasi_albert_graph(n=order, m=2, seed=42, initial_graph=nx.complete_graph(3))\n",
    "                net = nk.nxadapter.nx2nk(net, weightAttr=None)\n",
    "            elif case == 'complete_mixing':\n",
    "                net = nx.complete_graph(n=order)\n",
    "                net = nk.nxadapter.nx2nk(net, weightAttr=None)\n",
    "            elif case == 'lattice':\n",
    "                net = nx.grid_2d_graph(int(np.sqrt(order)), int(np.sqrt(order)), periodic=False)\n",
    "                net = nk.nxadapter.nx2nk(net, weightAttr=None)\n",
    "            else:\n",
    "                return None\n",
    "\n",
    "            final_net = simulate_deffuant_model(net, iterations, d[i], convergence, fast_mode=True)\n",
    "            avg_dispersions[i] += dispersion_index(final_net)\n",
    "    \n",
    "    print()\n",
    "    avg_dispersions = [dispersion_sum/sample_size for dispersion_sum in avg_dispersions]\n",
    "        \n",
    "    return d, avg_dispersions"
   ]
  },
  {
   "cell_type": "code",
   "execution_count": 3,
   "id": "8ffd3fe5",
   "metadata": {},
   "outputs": [
    {
     "name": "stdout",
     "output_type": "stream",
     "text": [
      ".........................\n"
     ]
    },
    {
     "data": {
      "image/png": "[encoded data removed]",
      "text/plain": [
       "<Figure size 640x480 with 1 Axes>"
      ]
     },
     "metadata": {},
     "output_type": "display_data"
    }
   ],
   "source": [
    "#plt.style.use('_mpl-gallery')\n",
    "\n",
    "# data\n",
    "x, y = avg_dispersion_data('scale_free', order=900, iterations=1000, sample_size=20,\\\n",
    "                           points=25, init_d=0.1, final_d=0.6, convergence=0.3)\n",
    "\n",
    "# plot\n",
    "fig, ax = plt.subplots()\n",
    "\n",
    "ax.plot(x, y, linewidth=2.0)\n",
    "\n",
    "plt.show()"
   ]
  },
  {
   "cell_type": "code",
   "execution_count": 5,
   "id": "b9322fab",
   "metadata": {},
   "outputs": [],
   "source": [
    "# we set n=900 in the BA graph so that it has the same amount of vertices as the 30x30 grid graph\n",
    "# we set m=2 so that the average degree of the graph is 2*|E|/n = 2*(3+2*897)/900 ~= 4 as in the grid graph\n",
    "\n",
    "BA_graph = nx.barabasi_albert_graph(n=900, m=2, seed=42, initial_graph=nx.complete_graph(3))\n",
    "lattice  = nx.grid_2d_graph(30, 30, periodic=False, create_using=None)\n",
    "\n",
    "BA_graph = nk.nxadapter.nx2nk(BA_graph, weightAttr=None)\n",
    "lattice = nk.nxadapter.nx2nk(lattice, weightAttr=None)"
   ]
  },
  {
   "cell_type": "code",
   "execution_count": 6,
   "id": "a92df683",
   "metadata": {},
   "outputs": [
    {
     "name": "stdout",
     "output_type": "stream",
     "text": [
      "simulation time: 0.191 seconds\n"
     ]
    }
   ],
   "source": [
    "start = time.time()\n",
    "\n",
    "effective_networks = simulate_deffuant_model(BA_graph, 1000, 0.3, 0.3, fast_mode=False)\n",
    "\n",
    "total_time = round(time.time()-start, 3)\n",
    "print(f\"simulation time: {total_time} seconds\")"
   ]
  },
  {
   "cell_type": "code",
   "execution_count": 11,
   "id": "e852a5b0",
   "metadata": {
    "scrolled": true
   },
   "outputs": [
    {
     "name": "stdout",
     "output_type": "stream",
     "text": [
      "Communities detected in 0.11741 [s]\n",
      "solution properties:\n",
      "-------------------  ----------\n",
      "# communities         18\n",
      "min community size    23\n",
      "max community size    74\n",
      "avg. community size   50\n",
      "imbalance              1.48\n",
      "edge cut             718\n",
      "edge cut (portion)     0.399555\n",
      "modularity             0.534553\n",
      "-------------------  ----------\n"
     ]
    },
    {
     "data": {
      "text/plain": [
       "0.5345531986316153"
      ]
     },
     "execution_count": 11,
     "metadata": {},
     "output_type": "execute_result"
    }
   ],
   "source": [
    "plmCommunities = nk.community.detectCommunities(BA_graph, algo=nk.community.PLM(BA_graph, True))\n",
    "nk.community.Modularity().getQuality(plmCommunities, BA_graph)"
   ]
  },
  {
   "cell_type": "code",
   "execution_count": 4,
   "id": "1213b138",
   "metadata": {},
   "outputs": [
    {
     "name": "stdout",
     "output_type": "stream",
     "text": [
      "2.8.8\n"
     ]
    }
   ],
   "source": [
    "print(nx.__version__)"
   ]
  },
  {
   "cell_type": "code",
   "execution_count": 7,
   "id": "cf423813",
   "metadata": {},
   "outputs": [],
   "source": [
    "from networkit.graph import Graph\n",
    "G = Graph(10)\n",
    "\n",
    "G.addEdge(1,2)\n",
    "\n",
    "att = G.attachNodeAttribute(\"opinion\", float)\n",
    "\n",
    "for node in G.iterNodes():\n",
    "        att[node] = np.random.uniform(0, 1)\n"
   ]
  }
 ],
 "metadata": {
  "kernelspec": {
   "display_name": "csn_lab",
   "language": "python",
   "name": "python3"
  },
  "language_info": {
   "codemirror_mode": {
    "name": "ipython",
    "version": 3
   },
   "file_extension": ".py",
   "mimetype": "text/x-python",
   "name": "python",
   "nbconvert_exporter": "python",
   "pygments_lexer": "ipython3",
   "version": "3.9.13"
  },
  "vscode": {
   "interpreter": {
    "hash": "6ae9fa0a07edcf115bc02224825ce632072c66e4ec6e031454900b493eddc2b5"
   }
  }
 },
 "nbformat": 4,
 "nbformat_minor": 5
}
