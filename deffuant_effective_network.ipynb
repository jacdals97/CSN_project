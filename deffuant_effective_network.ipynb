{
 "cells": [
  {
   "cell_type": "code",
   "execution_count": 76,
   "id": "1733dcc1",
   "metadata": {},
   "outputs": [],
   "source": [
    "import networkx as nx\n",
    "import numpy as np\n",
    "import copy\n",
    "import time\n",
    "import matplotlib.pyplot as plt # https://matplotlib.org/stable/plot_types/basic/plot.html\n",
    "\n",
    "\n",
    "def opinion_diff(u, v, G):\n",
    "    return G.nodes[u]['opinion'] - G.nodes[v]['opinion']\n",
    "\n",
    "\n",
    "def update_opinions(u, v, G, convergence, symmetric_updating=True):\n",
    "    diff = opinion_diff(u, v, G)\n",
    "\n",
    "    G.nodes[u]['opinion'] -= convergence * diff\n",
    "    \n",
    "    if symmetric_updating:\n",
    "        G.nodes[v]['opinion'] += convergence * diff\n",
    "    return G\n",
    "\n",
    "        \n",
    "def update_effective_net(u, v, effective_net, G, threshold, symmetric_updating):\n",
    "    # update u's neighbors\n",
    "    for w in G.neighbors(u):\n",
    "        diff = abs(opinion_diff(u, w, G))\n",
    "        \n",
    "        if diff <= threshold and not effective_net.has_edge(u, w):\n",
    "            effective_net.add_edge(u, w)\n",
    "\n",
    "        elif diff > threshold and effective_net.has_edge(u, w):\n",
    "            effective_net.remove_edge(u, w)\n",
    "        \n",
    "    if not symmetric_updating:\n",
    "        return effective_net\n",
    "    \n",
    "    # update v's neighbors\n",
    "    for w in G.neighbors(v):\n",
    "        diff = abs(opinion_diff(u, w, G))\n",
    "        \n",
    "        if diff <= threshold and not effective_net.has_edge(v, w):\n",
    "            effective_net.add_edge(v, w)\n",
    "\n",
    "        elif diff > threshold and effective_net.has_edge(v, w):\n",
    "            effective_net.remove_edge(v, w)\n",
    "    return effective_net\n",
    "\n",
    "\n",
    "def simulate_deffuant_model(G: nx.Graph, iterations: int, threshold: float,\\\n",
    "                            convergence: float, symmetric_updating=True, fast_mode=False):\n",
    "    \"\"\"\n",
    "    Simulates the Deffuant model on the given graph.\n",
    "\n",
    "    Parameters\n",
    "    ----------\n",
    "    G : networkx.Graph\n",
    "        The graph on which to simulate the model.\n",
    "    iterations : int\n",
    "        The number of iterations to run the simulation for.\n",
    "    threshold : float\n",
    "        Threshold value for node interaction in the model.\n",
    "    convergence : float\n",
    "        The value used for updating opinions in the model.\n",
    "    symmetric_updating: bool\n",
    "        If True, at every timestep both nodes update their opinions.\n",
    "        If False, at every timestep only the first selected node updates its opinion.\n",
    "    fast_mode: bool\n",
    "        If True, only the last effective network is returned and used throughout the simulation.\n",
    "        If False, every effective network is saved and returned.\n",
    "\n",
    "    Returns\n",
    "    -------\n",
    "    list[networkx.Graph]\n",
    "        A list of graphs, where each graph represents the state of the network at a given time step.\n",
    "    \"\"\"\n",
    "    \n",
    "    # initialize node attributes\n",
    "    for node in G.nodes():\n",
    "        G.nodes[node]['opinion'] = np.random.uniform(0, 1)\n",
    "\n",
    "    # get initial effective network\n",
    "    effective_net = copy.deepcopy(G)\n",
    "    \n",
    "    # remove edges between nodes with opinion difference above threshold\n",
    "    for u, v in effective_net.edges:\n",
    "        if abs(opinion_diff(u, v, G)) > threshold:\n",
    "            effective_net.remove_edge(u, v)\n",
    "\n",
    "    if not fast_mode:\n",
    "        # initialize the list of nets that will be returned\n",
    "        effective_networks = [effective_net]\n",
    "\n",
    "    # run simulation\n",
    "    for t in range(1, iterations):\n",
    "        \n",
    "        if not fast_mode:\n",
    "            # copy last effective network\n",
    "            effective_net = copy.deepcopy(effective_networks[t-1])\n",
    "        \n",
    "        # choose random node to update\n",
    "        u = np.random.choice(G.order())\n",
    "        \n",
    "        # get another node if u is isolated\n",
    "        while not list(effective_net.neighbors(u)):\n",
    "            u = np.random.choice(G.order())\n",
    "        \n",
    "        # get a random neighbor of u\n",
    "        v = np.random.choice(list(effective_net.neighbors(u)))\n",
    "\n",
    "        # update their opinions\n",
    "        G = update_opinions(u, v, G, convergence, symmetric_updating)\n",
    "        \n",
    "        # we now update the connections of these nodes in the effective network depending on\n",
    "        # the opinions of their neighbors in the underlying network G\n",
    "        effective_net = update_effective_net(u, v, effective_net, G, threshold, symmetric_updating)\n",
    "        \n",
    "        if not fast_mode:\n",
    "            # add it to list\n",
    "            effective_networks.append(effective_net)\n",
    "    \n",
    "    if not fast_mode:\n",
    "        return effective_networks\n",
    "    else:\n",
    "        return effective_net"
   ]
  },
  {
   "cell_type": "code",
   "execution_count": 87,
   "id": "f7248314",
   "metadata": {},
   "outputs": [],
   "source": [
    "# metrics functions\n",
    "\n",
    "# equation 3 in the paper\n",
    "def dispersion_index(G):\n",
    "    return sum([len(cluster)**2 for cluster in nx.connected_components(G)])/(G.order()**2)\n",
    "\n",
    "def avg_dispersion_data(case, order, iterations, sample_size, points, init_d, final_d, convergence):\n",
    "    avg_dispersions = [0 for i in range(points)]\n",
    "    d = [init_d + i*(final_d-init_d)/points for i in range(points)]\n",
    "    \n",
    "    for i in range(points):\n",
    "        print(\".\", end='')\n",
    "        for j in range(sample_size):\n",
    "            \n",
    "            # generate network sample\n",
    "            if case == 'scale_free':\n",
    "                net = nx.barabasi_albert_graph(n=order, m=2, seed=42, initial_graph=nx.complete_graph(3))\n",
    "            elif case == 'complete_mixing':\n",
    "                net = nx.complete_graph(n=order)\n",
    "            elif case == 'lattice':\n",
    "                net = nx.grid_2d_graph(int(np.sqrt(order)), int(np.sqrt(order)), periodic=False)\n",
    "            else:\n",
    "                return None\n",
    "\n",
    "            final_net = simulate_deffuant_model(net, iterations, d[i], convergence, fast_mode=True)\n",
    "            avg_dispersions[i] += dispersion_index(final_net)\n",
    "    \n",
    "    print()\n",
    "    avg_dispersions = [dispersion_sum/sample_size for dispersion_sum in avg_dispersions]\n",
    "        \n",
    "    return d, avg_dispersions"
   ]
  },
  {
   "cell_type": "code",
   "execution_count": 88,
   "id": "8ffd3fe5",
   "metadata": {},
   "outputs": [
    {
     "name": "stdout",
     "output_type": "stream",
     "text": [
      ".........................\n"
     ]
    },
    {
     "data": {
      "image/png": "[encoded data removed]",
      "text/plain": [
       "<Figure size 640x480 with 1 Axes>"
      ]
     },
     "metadata": {},
     "output_type": "display_data"
    }
   ],
   "source": [
    "#plt.style.use('_mpl-gallery')\n",
    "\n",
    "# data\n",
    "x, y = avg_dispersion_data('scale_free', order=900, iterations=1000, sample_size=20,\\\n",
    "                           points=25, init_d=0.1, final_d=0.6, convergence=0.3)\n",
    "\n",
    "# plot\n",
    "fig, ax = plt.subplots()\n",
    "\n",
    "ax.plot(x, y, linewidth=2.0)\n",
    "\n",
    "plt.show()"
   ]
  },
  {
   "cell_type": "code",
   "execution_count": 89,
   "id": "e70c4150",
   "metadata": {},
   "outputs": [
    {
     "data": {
      "image/png": "[encoded data removed]",
      "text/plain": [
       "<Figure size 640x480 with 1 Axes>"
      ]
     },
     "metadata": {},
     "output_type": "display_data"
    }
   ],
   "source": [
    "# plot\n",
    "fig, ax = plt.subplots()\n",
    "\n",
    "ax.scatter(x, y, linewidth=2.0)\n",
    "\n",
    "plt.show()"
   ]
  },
  {
   "cell_type": "code",
   "execution_count": 4,
   "id": "b9322fab",
   "metadata": {},
   "outputs": [],
   "source": [
    "# we set n=900 in the BA graph so that it has the same amount of vertices as the 30x30 grid graph\n",
    "# we set m=2 so that the average degree of the graph is 2*|E|/n = 2*(3+2*897)/900 ~= 4 as in the grid graph\n",
    "\n",
    "BA_graph = nx.barabasi_albert_graph(n=900, m=2, seed=42, initial_graph=nx.complete_graph(3))\n",
    "lattice  = nx.grid_2d_graph(30, 30, periodic=False, create_using=None)"
   ]
  },
  {
   "cell_type": "code",
   "execution_count": 7,
   "id": "a92df683",
   "metadata": {},
   "outputs": [
    {
     "name": "stdout",
     "output_type": "stream",
     "text": [
      "simulation time: 0.16 seconds\n"
     ]
    }
   ],
   "source": [
    "start = time.time()\n",
    "\n",
    "effective_networks = simulate_deffuant_model(BA_graph, 1000, 0.3, 0.3, fast_mode=True)\n",
    "\n",
    "total_time = round(time.time()-start, 3)\n",
    "print(f\"simulation time: {total_time} seconds\")"
   ]
  },
  {
   "cell_type": "code",
   "execution_count": 6,
   "id": "e852a5b0",
   "metadata": {
    "scrolled": true
   },
   "outputs": [],
   "source": [
    "#nx.draw(res[-1], nx.spring_layout(res[-1]))"
   ]
  },
  {
   "cell_type": "code",
   "execution_count": 4,
   "id": "1213b138",
   "metadata": {},
   "outputs": [
    {
     "name": "stdout",
     "output_type": "stream",
     "text": [
      "2.8.8\n"
     ]
    }
   ],
   "source": [
    "print(nx.__version__)"
   ]
  },
  {
   "cell_type": "code",
   "execution_count": 77,
   "id": "cf423813",
   "metadata": {},
   "outputs": [
    {
     "name": "stdout",
     "output_type": "stream",
     "text": [
      "42\n",
      "43\n"
     ]
    }
   ],
   "source": [
    "G = nx.Graph()\n",
    "G.add_edge(1,2)\n",
    "\n",
    "G.nodes[1]['a'] = 42\n",
    "print(G.nodes[1]['a'])\n",
    "\n",
    "def change(n, key, val, G):\n",
    "    G.nodes[n][key] = val\n",
    "    \n",
    "change(1,'a', 43, G)\n",
    "\n",
    "print(G.nodes[1]['a'])"
   ]
  },
  {
   "cell_type": "code",
   "execution_count": 78,
   "id": "6ee3759e",
   "metadata": {},
   "outputs": [
    {
     "data": {
      "text/plain": [
       "2"
      ]
     },
     "execution_count": 78,
     "metadata": {},
     "output_type": "execute_result"
    }
   ],
   "source": [
    "G.order()"
   ]
  }
 ],
 "metadata": {
  "kernelspec": {
   "display_name": "csn_lab",
   "language": "python",
   "name": "python3"
  },
  "language_info": {
   "codemirror_mode": {
    "name": "ipython",
    "version": 3
   },
   "file_extension": ".py",
   "mimetype": "text/x-python",
   "name": "python",
   "nbconvert_exporter": "python",
   "pygments_lexer": "ipython3",
   "version": "3.9.13 (main, Aug 25 2022, 23:26:10) \n[GCC 11.2.0]"
  },
  "vscode": {
   "interpreter": {
    "hash": "6ae9fa0a07edcf115bc02224825ce632072c66e4ec6e031454900b493eddc2b5"
   }
  }
 },
 "nbformat": 4,
 "nbformat_minor": 5
}
