{
 "cells": [
  {
   "cell_type": "code",
   "execution_count": 63,
   "id": "1733dcc1",
   "metadata": {},
   "outputs": [],
   "source": [
    "import networkx as nx\n",
    "import numpy as np\n",
    "import copy\n",
    "import time\n",
    "import matplotlib.pyplot as plt # https://matplotlib.org/stable/plot_types/basic/plot.html\n",
    "\n",
    "\n",
    "### maybe ordering neighbors reduces time looking for them?\n",
    "\n",
    "\n",
    "def get_net(net_type, net_order, rng=None):\n",
    "    if net_type == 'scale_free':\n",
    "        return nx.barabasi_albert_graph(n=net_order, m=2, seed=rng, initial_graph=nx.complete_graph(3))\n",
    "\n",
    "    elif net_type == 'complete_mixing':\n",
    "        return nx.complete_graph(n=net_order)\n",
    "\n",
    "    elif net_type == 'lattice':\n",
    "        return nx.grid_2d_graph(int(np.sqrt(net_order)), int(np.sqrt(net_order)), periodic=False)\n",
    "\n",
    "    else:\n",
    "        return None\n",
    "\n",
    "\n",
    "def update_opinions(u, v, opinions, convergence, symmetric_updating=True):\n",
    "    diff = opinions[u] - opinions[v]\n",
    "\n",
    "    opinions[u] -= convergence * diff\n",
    "    \n",
    "    if symmetric_updating:\n",
    "        opinions[v] += convergence * diff\n",
    "        \n",
    "    return opinions\n",
    "\n",
    "\n",
    "def effective_neighbors(u, adjG, opinions, threshold):\n",
    "    \n",
    "    distances = opinions - opinions[u] # vector of opinion distances\n",
    "    distances[(distances < -threshold) | (distances > threshold)] = -1 # turn nodes at dist>d into -1\n",
    "    distances[distances != -1] = 0 # the rest into 0\n",
    "    distances += 1 # close nodes are now 1 and far away ones are 0\n",
    "    \n",
    "    return adjG[u]*distances # filters out non-neighbors with close opinion distance\n",
    "\n",
    "\n",
    "def update_effective_net(u, v, effective_net, adjG, opinions, threshold, symmetric_updating):\n",
    "    \n",
    "    neighbors = effective_neighbors(u, adjG, opinions, threshold)\n",
    "\n",
    "    effective_net[u]   = neighbors\n",
    "    effective_net[:,u] = neighbors\n",
    "        \n",
    "    if not symmetric_updating:\n",
    "        return effective_net\n",
    "\n",
    "    neighbors = effective_neighbors(v, adjG, opinions, threshold)\n",
    "    \n",
    "    effective_net[v]   = neighbors\n",
    "    effective_net[:,v] = neighbors\n",
    "            \n",
    "    return effective_net\n",
    "\n",
    "\n",
    "def simulate_deffuant_model(G: nx.Graph, iterations: int, threshold: float, convergence: float,\\\n",
    "                            symmetric_updating=True, fast_mode=False, rng=np.random.default_rng(42)):\n",
    "    \"\"\"\n",
    "    Simulates the Deffuant model on the given graph.\n",
    "\n",
    "    Parameters\n",
    "    ----------\n",
    "    G : networkx.Graph\n",
    "        The graph on which to simulate the model.\n",
    "    iterations : int\n",
    "        The number of iterations to run the simulation for.\n",
    "    threshold : float\n",
    "        Threshold value for node interaction in the model.\n",
    "    convergence : float\n",
    "        The value used for updating opinions in the model.\n",
    "    symmetric_updating: bool\n",
    "        If True, at every timestep both nodes update their opinions.\n",
    "        If False, at every timestep only the first selected node updates its opinion.\n",
    "    fast_mode: bool\n",
    "        If True, only the last effective network is returned and used throughout the simulation.\n",
    "        If False, every effective network is saved and returned.\n",
    "\n",
    "    Returns\n",
    "    -------\n",
    "    list[networkx.Graph]\n",
    "        A list of graphs, where each graph represents the state of the network at a given time step.\n",
    "    \"\"\"\n",
    "    \n",
    "    # initialize opinions\n",
    "    opinions = rng.random(G.order())\n",
    "    \n",
    "    # save adjacency matrix\n",
    "    adjG = nx.to_numpy_array(G)\n",
    "\n",
    "    # get initial effective network\n",
    "    effective_net = nx.to_numpy_array(G)\n",
    "    \n",
    "    for u in G.nodes():\n",
    "        # get 0-1 vector of neighbors at opinion distance <threshold\n",
    "        neighbors = effective_neighbors(u, adjG, opinions, threshold)\n",
    "        effective_net[u]   = neighbors\n",
    "        effective_net[:,u] = neighbors\n",
    "\n",
    "    if not fast_mode:\n",
    "        # initialize the list of nets that will be returned\n",
    "        effective_networks = [effective_net]\n",
    "\n",
    "    # run simulation\n",
    "    for t in range(1, iterations):\n",
    "        \n",
    "        if not fast_mode:\n",
    "            # copy last effective network\n",
    "            effective_net = np.copy(effective_networks[t-1])\n",
    "        \n",
    "        # choose random node to update\n",
    "        u = rng.choice(G.order())\n",
    "        \n",
    "        # get another node if u is isolated\n",
    "        while not sum(effective_net[u]):\n",
    "            u = rng.choice(G.order())\n",
    "        \n",
    "        # get a random neighbor of u\n",
    "        v = rng.choice([i for i in range(G.order()) if effective_net[u,i]==1])\n",
    "\n",
    "        # update their opinions\n",
    "        opinions = update_opinions(u, v, opinions, convergence, symmetric_updating)\n",
    "        \n",
    "        # we now update the connections of these nodes in the effective network depending on\n",
    "        # the opinions of their neighbors in the underlying network G\n",
    "        effective_net = update_effective_net(u, v, effective_net, adjG, opinions, threshold, symmetric_updating)\n",
    "        \n",
    "        if not fast_mode:\n",
    "            # add it to list\n",
    "            effective_networks.append(effective_net)\n",
    "    \n",
    "    if not fast_mode:\n",
    "        return effective_networks\n",
    "    else:\n",
    "        return nx.Graph(effective_net)"
   ]
  },
  {
   "cell_type": "code",
   "execution_count": 38,
   "id": "f7248314",
   "metadata": {},
   "outputs": [],
   "source": [
    "# METRIC/PLOT FUNCTIONS\n",
    "\n",
    "# equation 3 in the paper\n",
    "def dispersion_index(G):\n",
    "    return sum([len(cluster)**2 for cluster in nx.connected_components(G)])/(G.order()**2)\n",
    "\n",
    "\n",
    "# computes the avg value of a metric over a range of d values in a given net type and fixed convergence\n",
    "def metric_d_plot_data(metric, net_type, net_order, symmetric_updating, iterations,\\\n",
    "                       sample_size, num_points, init_d, final_d, convergence, rng):\n",
    "    \n",
    "    # initialize vector with data\n",
    "    metric_avgs = np.zeros(num_points)\n",
    "    # initialize vector with x-axis points\n",
    "    d = [init_d + i*(final_d-init_d)/num_points for i in range(num_points)]\n",
    "    \n",
    "    for i in range(num_points):\n",
    "        print(\".\", end='') # loading\n",
    "        \n",
    "        # at every point we will average the metric over sample_size networks\n",
    "        for j in range(sample_size):\n",
    "            \n",
    "            # generate network sample\n",
    "            initial_net = get_net(net_type, net_order, rng)\n",
    "\n",
    "            final_net = simulate_deffuant_model(initial_net, iterations, d[i], convergence,\\\n",
    "                                                symmetric_updating=symmetric_updating, fast_mode=True, rng=rng)\n",
    "            \n",
    "            # add metric to data vect so that we can compute the avg\n",
    "            metric_avgs[i] += metric(final_net)\n",
    "    \n",
    "    print()\n",
    "    # compute avgs\n",
    "    metric_avgs = metric_avgs/sample_size\n",
    "\n",
    "    return d, metric_avgs\n",
    "\n",
    "\n",
    "# computes the avg evolution of a metric in the deffuant model with fixed parameters in a given net type and fixed convergence\n",
    "def metric_evol_plot_data(metric, net_type, net_order, symmetric_updating,\\\n",
    "                          iterations, sample_size, d, convergence, rng):\n",
    "    \n",
    "    # initialize vector with data\n",
    "    metric_avgs = np.zeros(iterations)\n",
    "    \n",
    "    for i in range(sample_size):\n",
    "        print(\".\", end='') # loading\n",
    "        \n",
    "        # generate network sample\n",
    "        initial_net = get_net(net_type, net_order, rng)\n",
    "\n",
    "        nets = simulate_deffuant_model(initial_net, iterations, d, convergence,\\\n",
    "                                       symmetric_updating=symmetric_updating, fast_mode=False, rng=rng)\n",
    "\n",
    "        # add metric of every net so that we can compute the avg\n",
    "        metric_avgs = metric_avgs + np.array([metric(net) for net in nets])\n",
    "    \n",
    "    print()\n",
    "    # compute avgs\n",
    "    metric_avgs = metric_avgs/sample_size\n",
    "\n",
    "    return list(range(iterations)), metric_avgs\n",
    "   \n",
    "\n",
    "# runs simulation and sets x and y with the initial and final opinions of agents\n",
    "def opinion_change_plot_data(network, iterations, d, convergence, rng):    \n",
    "    final_network = simulate_deffuant_model(network, iterations, d, convergence, fast_mode=True, rng=rng)\n",
    "    \n",
    "    x = [network.nodes[node]['opinion'] for node in network.nodes()]\n",
    "    y = [final_network.nodes[node]['opinion'] for node in final_network.nodes()]\n",
    "    y_bar = np.array([network.degree[node] for node in network.nodes()])\n",
    "    \n",
    "    # rescale the bars\n",
    "    y_bar = y_bar/(4*max(y_bar))\n",
    "    \n",
    "    return x, y, y_bar"
   ]
  },
  {
   "cell_type": "code",
   "execution_count": 51,
   "id": "8ffd3fe5",
   "metadata": {
    "scrolled": false
   },
   "outputs": [
    {
     "name": "stdout",
     "output_type": "stream",
     "text": [
      "...............\n"
     ]
    },
    {
     "data": {
      "image/png": "[encoded data removed]",
      "text/plain": [
       "<Figure size 432x288 with 1 Axes>"
      ]
     },
     "metadata": {
      "needs_background": "light"
     },
     "output_type": "display_data"
    }
   ],
   "source": [
    "# PLOT METRIC AT DIFFERENT VALUES OF D\n",
    "\n",
    "rng = np.random.default_rng(42)\n",
    "\n",
    "x, y = metric_d_plot_data(metric=dispersion_index, net_type='scale_free', net_order=900, symmetric_updating=True,\n",
    "                          iterations=10000, sample_size=5, num_points=15, init_d=0.1, final_d=0.6, convergence=0.3, rng=rng)\n",
    "\n",
    "fig, ax = plt.subplots()\n",
    "ax.plot(x, y, linewidth=2.0)\n",
    "\n",
    "plt.show()"
   ]
  },
  {
   "cell_type": "code",
   "execution_count": 99,
   "id": "967fde2a",
   "metadata": {
    "scrolled": false
   },
   "outputs": [
    {
     "data": {
      "image/png": "[encoded data removed]",
      "text/plain": [
       "<Figure size 432x288 with 1 Axes>"
      ]
     },
     "metadata": {
      "needs_background": "light"
     },
     "output_type": "display_data"
    }
   ],
   "source": [
    "# OPINION CHANGE PLOT (requires many iterations)\n",
    "\n",
    "rng = np.random.default_rng(42)\n",
    "\n",
    "net = nx.barabasi_albert_graph(n=900, m=2, seed=rng, initial_graph=nx.complete_graph(3))\n",
    "\n",
    "x, y, y_bar = opinion_change_plot_data(network=net, iterations=400000, d=0.2, convergence=0.3, rng=rng)\n",
    "\n",
    "fig, ax = plt.subplots()\n",
    "ax.errorbar(y, x, y_bar, fmt='.', linewidth=1, capsize=4)\n",
    "\n",
    "ax.set(xlim=(0, 1), ylim=(0, 1))\n",
    "\n",
    "plt.show()"
   ]
  },
  {
   "cell_type": "code",
   "execution_count": 4,
   "id": "b9322fab",
   "metadata": {},
   "outputs": [],
   "source": [
    "# we set n=900 in the BA graph so that it has the same amount of vertices as the 30x30 grid graph\n",
    "# we set m=2 so that the average degree of the graph is 2*|E|/n = 2*(3+2*897)/900 ~= 4 as in the grid graph\n",
    "\n",
    "BA_graph = nx.barabasi_albert_graph(n=900, m=2, seed=42, initial_graph=nx.complete_graph(3))\n",
    "lattice  = nx.grid_2d_graph(30, 30, periodic=False, create_using=None)"
   ]
  },
  {
   "cell_type": "code",
   "execution_count": 65,
   "id": "a92df683",
   "metadata": {},
   "outputs": [
    {
     "name": "stdout",
     "output_type": "stream",
     "text": [
      "simulation time: 6.567 seconds\n"
     ]
    }
   ],
   "source": [
    "rng = np.random.default_rng(42)\n",
    "\n",
    "graph = nx.complete_graph(n=900)\n",
    "#graph = nx.barabasi_albert_graph(n=900, m=2, seed=42, initial_graph=nx.complete_graph(3))\n",
    "\n",
    "start = time.time()\n",
    "\n",
    "effective_networks = simulate_deffuant_model(graph, 10000, 0.3, 0.3, symmetric_updating=True, fast_mode=True, rng=rng)\n",
    "\n",
    "total_time = round(time.time()-start, 3)\n",
    "print(f\"simulation time: {total_time} seconds\")"
   ]
  },
  {
   "cell_type": "code",
   "execution_count": 26,
   "id": "1213b138",
   "metadata": {
    "scrolled": true
   },
   "outputs": [
    {
     "name": "stdout",
     "output_type": "stream",
     "text": [
      "2.8.8\n"
     ]
    }
   ],
   "source": [
    "print(nx.__version__)"
   ]
  },
  {
   "cell_type": "code",
   "execution_count": 45,
   "id": "cf423813",
   "metadata": {},
   "outputs": [
    {
     "name": "stdout",
     "output_type": "stream",
     "text": [
      "42\n",
      "43\n"
     ]
    }
   ],
   "source": [
    "G = nx.Graph()\n",
    "G.add_edge(1,2)\n",
    "\n",
    "G.nodes[1]['a'] = 42\n",
    "print(G.nodes[1]['a'])\n",
    "\n",
    "def change(n, key, val, G):\n",
    "    G.nodes[n][key] = val\n",
    "    \n",
    "change(1,'a', 43, G)\n",
    "\n",
    "print(G.nodes[1]['a'])"
   ]
  },
  {
   "cell_type": "code",
   "execution_count": 16,
   "id": "674dda5c",
   "metadata": {},
   "outputs": [
    {
     "name": "stdout",
     "output_type": "stream",
     "text": [
      "[0.  0.2 0.  0.  0.  0.2 0.  0. ]\n"
     ]
    }
   ],
   "source": [
    "#https://numpy.org/doc/stable/user/basics.indexing.html\n",
    "#https://numpy.org/doc/stable/reference/arrays.indexing.html\n",
    "\n",
    "a = np.array([0, 0.2, 0.4, 0.8, 0.9, 0.2, 0.3, 0.3])\n",
    "\n",
    "a[(a<0.2) | (a>0.2)] = 0\n",
    "\n",
    "\n",
    "print(a)\n",
    "#print(a[a>0.3])"
   ]
  },
  {
   "cell_type": "code",
   "execution_count": 10,
   "id": "96c9e551",
   "metadata": {},
   "outputs": [
    {
     "name": "stdout",
     "output_type": "stream",
     "text": [
      "[1.  1.2 1.4 1.8 1.9 1.2 1.3 1.3]\n"
     ]
    }
   ],
   "source": [
    "a = np.array([0, 0.2, 0.4, 0.8, 0.9, 0.2, 0.3, 0.3])\n",
    "a += 1\n",
    "print(a)"
   ]
  },
  {
   "cell_type": "code",
   "execution_count": 21,
   "id": "5f85ab1c",
   "metadata": {},
   "outputs": [
    {
     "name": "stdout",
     "output_type": "stream",
     "text": [
      "[[7 1]\n",
      " [6 3]]\n"
     ]
    }
   ],
   "source": [
    "a = np.array([[0,1],\n",
    "              [2,3]])\n",
    "\n",
    "a[:,0] = [7,6]\n",
    "print(a)"
   ]
  },
  {
   "cell_type": "code",
   "execution_count": null,
   "id": "bb61b6a3",
   "metadata": {},
   "outputs": [],
   "source": []
  }
 ],
 "metadata": {
  "kernelspec": {
   "display_name": "Python 3",
   "language": "python",
   "name": "python3"
  },
  "language_info": {
   "codemirror_mode": {
    "name": "ipython",
    "version": 3
   },
   "file_extension": ".py",
   "mimetype": "text/x-python",
   "name": "python",
   "nbconvert_exporter": "python",
   "pygments_lexer": "ipython3",
   "version": "3.8.8"
  }
 },
 "nbformat": 4,
 "nbformat_minor": 5
}
