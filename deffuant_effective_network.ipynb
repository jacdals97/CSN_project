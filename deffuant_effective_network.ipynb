{
 "cells": [
  {
   "cell_type": "code",
   "execution_count": 46,
   "id": "1733dcc1",
   "metadata": {},
   "outputs": [],
   "source": [
    "import networkx as nx\n",
    "import numpy as np\n",
    "import copy\n",
    "\n",
    "\n",
    "def opinion_diff(u, v, G):\n",
    "    return G.nodes[u]['opinion'] - G.nodes[v]['opinion']\n",
    "\n",
    "\n",
    "def update_opinions(u, v, G, convergence, symmetric_updating=True):\n",
    "    diff = opinion_diff(u, v, G)\n",
    "\n",
    "    G.nodes[u]['opinion'] -= convergence * diff\n",
    "    \n",
    "    if symmetric_updating:\n",
    "        G.nodes[v]['opinion'] += convergence * diff\n",
    "\n",
    "        \n",
    "def update_effective_net(u, v, effective_net, G, threshold, symmetric_updating):\n",
    "    # update u's neighbors\n",
    "    for w in G.neighbors(u):\n",
    "        diff = abs(opinion_diff(u, w, G))\n",
    "        \n",
    "        if diff <= threshold and not effective_net.has_edge(u, w):\n",
    "            effective_net.add_edge(u, w)\n",
    "\n",
    "        elif diff > threshold and effective_net.has_edge(u, w):\n",
    "            effective_net.remove_edge(u, w)\n",
    "        \n",
    "    if not symmetric_updating:\n",
    "        return\n",
    "    \n",
    "    # update v's neighbors\n",
    "    for w in G.neighbors(v):\n",
    "        diff = abs(opinion_diff(u, w, G))\n",
    "        \n",
    "        if diff <= threshold and not effective_net.has_edge(v, w):\n",
    "            effective_net.add_edge(v, w)\n",
    "\n",
    "        elif diff > threshold and effective_net.has_edge(v, w):\n",
    "            effective_net.remove_edge(v, w)\n",
    "\n",
    "\n",
    "def simulate_deffuant_model(G, n_iter=100, threshold=0.5, convergence=0.5, symmetric_updating=True):\n",
    "    \"\"\"\n",
    "    Simulates the Deffuant model on the given graph.\n",
    "\n",
    "    Parameters\n",
    "    ----------\n",
    "    G : networkx.Graph\n",
    "        The graph on which to simulate the model.\n",
    "    n_iter : int\n",
    "        The number of iterations to run the simulation for.\n",
    "    threshold : float\n",
    "        The threshold value used in the model.\n",
    "    convergence : float\n",
    "        The convergence value used in the model.\n",
    "\n",
    "    Returns\n",
    "    -------\n",
    "    list of networkx.Graph\n",
    "        A list of graphs, where each graph represents the state of the network at a given time step.\n",
    "    \"\"\"\n",
    "    \n",
    "    # initialize node attributes\n",
    "    for node in G.nodes():\n",
    "        G.nodes[node]['opinion'] = np.random.uniform(0, 1)\n",
    "\n",
    "    # get initial effective network\n",
    "    effective_net = copy.deepcopy(G)\n",
    "    \n",
    "    # remove edges between nodes with opinion difference above threshold\n",
    "    for u, v in effective_net.edges:\n",
    "        if abs(opinion_diff(u, v, G)) > threshold:\n",
    "            effective_net.remove_edge(u, v)\n",
    "\n",
    "    # initialize the list of nets that will be returned\n",
    "    effective_networks = [effective_net]\n",
    "\n",
    "    # run simulation\n",
    "    for t in range(1, n_iter):\n",
    "        # copy last effective network\n",
    "        effective_net = copy.deepcopy(effective_networks[t-1])\n",
    "        \n",
    "        # choose random node to update\n",
    "        u = np.random.choice(G.order())\n",
    "        \n",
    "        # get another node if u is isolated\n",
    "        while not list(effective_net.neighbors(u)):\n",
    "            u = np.random.choice(G.order())\n",
    "        \n",
    "        # get a random neighbor of u\n",
    "        v = np.random.choice(list(effective_net.neighbors(u)))\n",
    "\n",
    "        # update their opinions\n",
    "        update_opinions(u, v, G, convergence, symmetric_updating)\n",
    "        \n",
    "        # we now update the connections of these nodes in the effective network depending on\n",
    "        # the opinions of their neighbors in the underlying network G\n",
    "        update_effective_net(u, v, effective_net, G, threshold, symmetric_updating)\n",
    "        \n",
    "        # add it to list\n",
    "        effective_networks.append(effective_net)\n",
    "            \n",
    "    return effective_networks"
   ]
  },
  {
   "cell_type": "code",
   "execution_count": 47,
   "id": "b9322fab",
   "metadata": {},
   "outputs": [],
   "source": [
    "# we set n=900 in the BA graph so that it has the same amount of vertices as the 30x30 grid graph\n",
    "# we set m=2 so that the average degree of the graph is 2*|E|/n = 2*(3+2*897)/900 ~= 4 as in the grid graph\n",
    "\n",
    "BA_graph = nx.barabasi_albert_graph(n=900, m=2, seed=42, initial_graph=nx.complete_graph(3))\n",
    "lattice  = nx.grid_2d_graph(30, 30, periodic=False, create_using=None)"
   ]
  },
  {
   "cell_type": "code",
   "execution_count": 48,
   "id": "a92df683",
   "metadata": {},
   "outputs": [],
   "source": [
    "res = simulate_deffuant_model(BA_graph, 1000, 0.3, 0.3)"
   ]
  },
  {
   "cell_type": "code",
   "execution_count": 44,
   "id": "e852a5b0",
   "metadata": {
    "scrolled": false
   },
   "outputs": [
    {
     "ename": "AttributeError",
     "evalue": "module 'scipy.sparse' has no attribute 'coo_array'",
     "output_type": "error",
     "traceback": [
      "\u001b[1;31m---------------------------------------------------------------------------\u001b[0m",
      "\u001b[1;31mAttributeError\u001b[0m                            Traceback (most recent call last)",
      "\u001b[1;32m<ipython-input-44-cd8ff07af8a1>\u001b[0m in \u001b[0;36m<module>\u001b[1;34m\u001b[0m\n\u001b[1;32m----> 1\u001b[1;33m \u001b[0mnx\u001b[0m\u001b[1;33m.\u001b[0m\u001b[0mdraw\u001b[0m\u001b[1;33m(\u001b[0m\u001b[0mres\u001b[0m\u001b[1;33m[\u001b[0m\u001b[1;33m-\u001b[0m\u001b[1;36m1\u001b[0m\u001b[1;33m]\u001b[0m\u001b[1;33m,\u001b[0m \u001b[0mnx\u001b[0m\u001b[1;33m.\u001b[0m\u001b[0mspring_layout\u001b[0m\u001b[1;33m(\u001b[0m\u001b[0mres\u001b[0m\u001b[1;33m[\u001b[0m\u001b[1;33m-\u001b[0m\u001b[1;36m1\u001b[0m\u001b[1;33m]\u001b[0m\u001b[1;33m)\u001b[0m\u001b[1;33m)\u001b[0m\u001b[1;33m\u001b[0m\u001b[1;33m\u001b[0m\u001b[0m\n\u001b[0m",
      "\u001b[1;32m~\\anaconda3\\lib\\site-packages\\networkx\\utils\\decorators.py\u001b[0m in \u001b[0;36mfunc\u001b[1;34m(_argmap__wrapper, *args, **kwargs)\u001b[0m\n\u001b[0;32m    843\u001b[0m \u001b[1;33m\u001b[0m\u001b[0m\n\u001b[0;32m    844\u001b[0m         \u001b[1;32mdef\u001b[0m \u001b[0mfunc\u001b[0m\u001b[1;33m(\u001b[0m\u001b[1;33m*\u001b[0m\u001b[0margs\u001b[0m\u001b[1;33m,\u001b[0m \u001b[0m__wrapper\u001b[0m\u001b[1;33m=\u001b[0m\u001b[1;32mNone\u001b[0m\u001b[1;33m,\u001b[0m \u001b[1;33m**\u001b[0m\u001b[0mkwargs\u001b[0m\u001b[1;33m)\u001b[0m\u001b[1;33m:\u001b[0m\u001b[1;33m\u001b[0m\u001b[1;33m\u001b[0m\u001b[0m\n\u001b[1;32m--> 845\u001b[1;33m             \u001b[1;32mreturn\u001b[0m \u001b[0margmap\u001b[0m\u001b[1;33m.\u001b[0m\u001b[0m_lazy_compile\u001b[0m\u001b[1;33m(\u001b[0m\u001b[0m__wrapper\u001b[0m\u001b[1;33m)\u001b[0m\u001b[1;33m(\u001b[0m\u001b[1;33m*\u001b[0m\u001b[0margs\u001b[0m\u001b[1;33m,\u001b[0m \u001b[1;33m**\u001b[0m\u001b[0mkwargs\u001b[0m\u001b[1;33m)\u001b[0m\u001b[1;33m\u001b[0m\u001b[1;33m\u001b[0m\u001b[0m\n\u001b[0m\u001b[0;32m    846\u001b[0m \u001b[1;33m\u001b[0m\u001b[0m\n\u001b[0;32m    847\u001b[0m         \u001b[1;31m# standard function-wrapping stuff\u001b[0m\u001b[1;33m\u001b[0m\u001b[1;33m\u001b[0m\u001b[1;33m\u001b[0m\u001b[0m\n",
      "\u001b[1;32m~\\anaconda3\\lib\\site-packages\\networkx\\utils\\decorators.py\u001b[0m in \u001b[0;36margmap_spring_layout_21\u001b[1;34m(G, k, pos, fixed, iterations, threshold, weight, scale, center, dim, seed)\u001b[0m\n\u001b[0;32m      2\u001b[0m \u001b[1;32mimport\u001b[0m \u001b[0mcollections\u001b[0m\u001b[1;33m\u001b[0m\u001b[1;33m\u001b[0m\u001b[0m\n\u001b[0;32m      3\u001b[0m \u001b[1;32mimport\u001b[0m \u001b[0mgzip\u001b[0m\u001b[1;33m\u001b[0m\u001b[1;33m\u001b[0m\u001b[0m\n\u001b[1;32m----> 4\u001b[1;33m \u001b[1;32mimport\u001b[0m \u001b[0minspect\u001b[0m\u001b[1;33m\u001b[0m\u001b[1;33m\u001b[0m\u001b[0m\n\u001b[0m\u001b[0;32m      5\u001b[0m \u001b[1;32mimport\u001b[0m \u001b[0mitertools\u001b[0m\u001b[1;33m\u001b[0m\u001b[1;33m\u001b[0m\u001b[0m\n\u001b[0;32m      6\u001b[0m \u001b[1;32mimport\u001b[0m \u001b[0mre\u001b[0m\u001b[1;33m\u001b[0m\u001b[1;33m\u001b[0m\u001b[0m\n",
      "\u001b[1;32m~\\anaconda3\\lib\\site-packages\\networkx\\drawing\\layout.py\u001b[0m in \u001b[0;36mspring_layout\u001b[1;34m(G, k, pos, fixed, iterations, threshold, weight, scale, center, dim, seed)\u001b[0m\n\u001b[0;32m    474\u001b[0m         \u001b[1;32mif\u001b[0m \u001b[0mlen\u001b[0m\u001b[1;33m(\u001b[0m\u001b[0mG\u001b[0m\u001b[1;33m)\u001b[0m \u001b[1;33m<\u001b[0m \u001b[1;36m500\u001b[0m\u001b[1;33m:\u001b[0m  \u001b[1;31m# sparse solver for large graphs\u001b[0m\u001b[1;33m\u001b[0m\u001b[1;33m\u001b[0m\u001b[0m\n\u001b[0;32m    475\u001b[0m             \u001b[1;32mraise\u001b[0m \u001b[0mValueError\u001b[0m\u001b[1;33m\u001b[0m\u001b[1;33m\u001b[0m\u001b[0m\n\u001b[1;32m--> 476\u001b[1;33m         \u001b[0mA\u001b[0m \u001b[1;33m=\u001b[0m \u001b[0mnx\u001b[0m\u001b[1;33m.\u001b[0m\u001b[0mto_scipy_sparse_array\u001b[0m\u001b[1;33m(\u001b[0m\u001b[0mG\u001b[0m\u001b[1;33m,\u001b[0m \u001b[0mweight\u001b[0m\u001b[1;33m=\u001b[0m\u001b[0mweight\u001b[0m\u001b[1;33m,\u001b[0m \u001b[0mdtype\u001b[0m\u001b[1;33m=\u001b[0m\u001b[1;34m\"f\"\u001b[0m\u001b[1;33m)\u001b[0m\u001b[1;33m\u001b[0m\u001b[1;33m\u001b[0m\u001b[0m\n\u001b[0m\u001b[0;32m    477\u001b[0m         \u001b[1;32mif\u001b[0m \u001b[0mk\u001b[0m \u001b[1;32mis\u001b[0m \u001b[1;32mNone\u001b[0m \u001b[1;32mand\u001b[0m \u001b[0mfixed\u001b[0m \u001b[1;32mis\u001b[0m \u001b[1;32mnot\u001b[0m \u001b[1;32mNone\u001b[0m\u001b[1;33m:\u001b[0m\u001b[1;33m\u001b[0m\u001b[1;33m\u001b[0m\u001b[0m\n\u001b[0;32m    478\u001b[0m             \u001b[1;31m# We must adjust k by domain size for layouts not near 1x1\u001b[0m\u001b[1;33m\u001b[0m\u001b[1;33m\u001b[0m\u001b[1;33m\u001b[0m\u001b[0m\n",
      "\u001b[1;32m~\\anaconda3\\lib\\site-packages\\networkx\\convert_matrix.py\u001b[0m in \u001b[0;36mto_scipy_sparse_array\u001b[1;34m(G, nodelist, dtype, weight, format)\u001b[0m\n\u001b[0;32m    921\u001b[0m             \u001b[0mr\u001b[0m \u001b[1;33m+=\u001b[0m \u001b[0mdiag_index\u001b[0m\u001b[1;33m\u001b[0m\u001b[1;33m\u001b[0m\u001b[0m\n\u001b[0;32m    922\u001b[0m             \u001b[0mc\u001b[0m \u001b[1;33m+=\u001b[0m \u001b[0mdiag_index\u001b[0m\u001b[1;33m\u001b[0m\u001b[1;33m\u001b[0m\u001b[0m\n\u001b[1;32m--> 923\u001b[1;33m         \u001b[0mA\u001b[0m \u001b[1;33m=\u001b[0m \u001b[0msp\u001b[0m\u001b[1;33m.\u001b[0m\u001b[0msparse\u001b[0m\u001b[1;33m.\u001b[0m\u001b[0mcoo_array\u001b[0m\u001b[1;33m(\u001b[0m\u001b[1;33m(\u001b[0m\u001b[0md\u001b[0m\u001b[1;33m,\u001b[0m \u001b[1;33m(\u001b[0m\u001b[0mr\u001b[0m\u001b[1;33m,\u001b[0m \u001b[0mc\u001b[0m\u001b[1;33m)\u001b[0m\u001b[1;33m)\u001b[0m\u001b[1;33m,\u001b[0m \u001b[0mshape\u001b[0m\u001b[1;33m=\u001b[0m\u001b[1;33m(\u001b[0m\u001b[0mnlen\u001b[0m\u001b[1;33m,\u001b[0m \u001b[0mnlen\u001b[0m\u001b[1;33m)\u001b[0m\u001b[1;33m,\u001b[0m \u001b[0mdtype\u001b[0m\u001b[1;33m=\u001b[0m\u001b[0mdtype\u001b[0m\u001b[1;33m)\u001b[0m\u001b[1;33m\u001b[0m\u001b[1;33m\u001b[0m\u001b[0m\n\u001b[0m\u001b[0;32m    924\u001b[0m     \u001b[1;32mtry\u001b[0m\u001b[1;33m:\u001b[0m\u001b[1;33m\u001b[0m\u001b[1;33m\u001b[0m\u001b[0m\n\u001b[0;32m    925\u001b[0m         \u001b[1;32mreturn\u001b[0m \u001b[0mA\u001b[0m\u001b[1;33m.\u001b[0m\u001b[0masformat\u001b[0m\u001b[1;33m(\u001b[0m\u001b[0mformat\u001b[0m\u001b[1;33m)\u001b[0m\u001b[1;33m\u001b[0m\u001b[1;33m\u001b[0m\u001b[0m\n",
      "\u001b[1;31mAttributeError\u001b[0m: module 'scipy.sparse' has no attribute 'coo_array'"
     ]
    }
   ],
   "source": [
    "nx.draw(res[-1], nx.spring_layout(res[-1]))"
   ]
  },
  {
   "cell_type": "code",
   "execution_count": 4,
   "id": "1213b138",
   "metadata": {},
   "outputs": [
    {
     "name": "stdout",
     "output_type": "stream",
     "text": [
      "2.8.8\n"
     ]
    }
   ],
   "source": [
    "print(nx.__version__)"
   ]
  },
  {
   "cell_type": "code",
   "execution_count": 45,
   "id": "cf423813",
   "metadata": {},
   "outputs": [
    {
     "name": "stdout",
     "output_type": "stream",
     "text": [
      "42\n",
      "43\n"
     ]
    }
   ],
   "source": [
    "G = nx.Graph()\n",
    "G.add_edge(1,2)\n",
    "\n",
    "G.nodes[1]['a'] = 42\n",
    "print(G.nodes[1]['a'])\n",
    "\n",
    "def change(n, key, val, G):\n",
    "    G.nodes[n][key] = val\n",
    "    \n",
    "change(1,'a', 43, G)\n",
    "\n",
    "print(G.nodes[1]['a'])"
   ]
  },
  {
   "cell_type": "code",
   "execution_count": null,
   "id": "6ee3759e",
   "metadata": {},
   "outputs": [],
   "source": []
  }
 ],
 "metadata": {
  "kernelspec": {
   "display_name": "Python 3",
   "language": "python",
   "name": "python3"
  },
  "language_info": {
   "codemirror_mode": {
    "name": "ipython",
    "version": 3
   },
   "file_extension": ".py",
   "mimetype": "text/x-python",
   "name": "python",
   "nbconvert_exporter": "python",
   "pygments_lexer": "ipython3",
   "version": "3.8.8"
  }
 },
 "nbformat": 4,
 "nbformat_minor": 5
}
